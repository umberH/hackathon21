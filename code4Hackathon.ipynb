{
  "nbformat": 4,
  "nbformat_minor": 0,
  "metadata": {
    "colab": {
      "name": "code4Hackathon.ipynb",
      "provenance": [],
      "collapsed_sections": [],
      "include_colab_link": true
    },
    "kernelspec": {
      "name": "python3",
      "display_name": "Python 3"
    },
    "language_info": {
      "name": "python"
    }
  },
  "cells": [
    {
      "cell_type": "markdown",
      "metadata": {
        "id": "view-in-github",
        "colab_type": "text"
      },
      "source": [
        "<a href=\"https://colab.research.google.com/github/umberH/hackathon21/blob/main/code4Hackathon.ipynb\" target=\"_parent\"><img src=\"https://colab.research.google.com/assets/colab-badge.svg\" alt=\"Open In Colab\"/></a>"
      ]
    },
    {
      "cell_type": "markdown",
      "metadata": {
        "id": "8ZRIdIoyRXlL"
      },
      "source": [
        "Mount Google drive"
      ]
    },
    {
      "cell_type": "code",
      "metadata": {
        "colab": {
          "base_uri": "https://localhost:8080/"
        },
        "id": "7YKd2R7eRWq_",
        "outputId": "e5442e51-8d3e-45dc-86a9-3b0fa30e5045"
      },
      "source": [
        "from google.colab import drive\n",
        "drive.mount('/content/drive')\n",
        "\n"
      ],
      "execution_count": 10,
      "outputs": [
        {
          "output_type": "stream",
          "text": [
            "Mounted at /content/drive\n"
          ],
          "name": "stdout"
        }
      ]
    },
    {
      "cell_type": "markdown",
      "metadata": {
        "id": "23pk8y8zPrfN"
      },
      "source": [
        "Read a csv file"
      ]
    },
    {
      "cell_type": "code",
      "metadata": {
        "id": "ME2F6h3URWD-"
      },
      "source": [
        ""
      ],
      "execution_count": null,
      "outputs": []
    },
    {
      "cell_type": "code",
      "metadata": {
        "colab": {
          "base_uri": "https://localhost:8080/"
        },
        "id": "kKhdB4NyN2M0",
        "outputId": "dd023534-db4f-4115-cc74-c9f3a58ad537"
      },
      "source": [
        "import pandas\n",
        "df =pandas.read_csv(\"/content/drive/MyDrive/hackathon/data_math.csv\")\n",
        "print (df)"
      ],
      "execution_count": 12,
      "outputs": [
        {
          "output_type": "stream",
          "text": [
            "          ID  Problem                              Answer  Score\n",
            "0          0        1                                  -1      5\n",
            "1          1        1                                  -4      0\n",
            "2          2        1                                   5      0\n",
            "3          3        1                                   5      0\n",
            "4          4        1                                   4      0\n",
            "...      ...      ...                                 ...    ...\n",
            "19995  19995        4  ['f(-x)g(-x)=-f(x)g(x)', 'either']      4\n",
            "19996  19996        4     ['f(-x)g(-x)=-f(x)g(x)', 'odd']      4\n",
            "19997  19997        4   ['f(-x)g(-x)=f(x)g(x)', 'either']      0\n",
            "19998  19998        4    ['f(-x)g(-x)=-f(x)g(x)', 'even']      4\n",
            "19999  19999        4  ['f(-x)g(-x)=-f(x)g(x)', 'either']      4\n",
            "\n",
            "[20000 rows x 4 columns]\n"
          ],
          "name": "stdout"
        }
      ]
    },
    {
      "cell_type": "markdown",
      "metadata": {
        "id": "_14CaAerPrEZ"
      },
      "source": [
        "Read doc file \n"
      ]
    },
    {
      "cell_type": "code",
      "metadata": {
        "colab": {
          "base_uri": "https://localhost:8080/"
        },
        "id": "g2JfQMZxTtwD",
        "outputId": "8d11f7da-9241-4e1f-eecf-3451a1feed75"
      },
      "source": [
        "!pip install python-docx "
      ],
      "execution_count": 13,
      "outputs": [
        {
          "output_type": "stream",
          "text": [
            "Requirement already satisfied: python-docx in /usr/local/lib/python3.7/dist-packages (0.8.11)\n",
            "Requirement already satisfied: lxml>=2.3.2 in /usr/local/lib/python3.7/dist-packages (from python-docx) (4.2.6)\n"
          ],
          "name": "stdout"
        }
      ]
    },
    {
      "cell_type": "code",
      "metadata": {
        "colab": {
          "base_uri": "https://localhost:8080/"
        },
        "id": "iA5n3uBVTqi7",
        "outputId": "3a911289-550c-4260-c9f5-139a33743fae"
      },
      "source": [
        "import docx\n",
        "doc = docx.Document('/content/drive/MyDrive/hackathon/Problem_math_description.docx')\n",
        "\n",
        "problems = \n",
        "#print(doc.paragraphs[0].text)\n",
        "for  x in doc.paragraphs:\n",
        "  #print(x.text)\n",
        "  part= x.text.split(':')\n",
        "  for y in part:\n",
        "    #print(y)\n",
        "    solutions= y.split(';')\n",
        "    for z in solutions:\n",
        "      print(z)\n",
        "      # create a dataframe \n",
        "      \n"
      ],
      "execution_count": 23,
      "outputs": [
        {
          "output_type": "stream",
          "text": [
            "Problem1\n",
            "\n",
            "If $3p+4q=8$ and $4p+3q=13$, what is $q$ equal to? (Total Points 5)\n",
            "\n",
            "Rubric\n",
            " q=-1(5)\n",
            " others(0)\n",
            "\n",
            "Answer\n",
            " q=-1(5)\n",
            "\n",
            "Problem 2\n",
            "Evaluate $i^6+i^{16}+i^{-26}$. (Total Points 5)\n",
            "\n",
            "Rubric\n",
            " i^6=-1(1)\n",
            " i^{16}=1(1)\n",
            " i^{-26}=-1(1)\n",
            "\n",
            "Answer\n",
            " -1(5)\n",
            "\n",
            "Problem3\n",
            " The lengths of the three sides of a triangle are $7$, $x+4$ and $2x+1$.  The perimeter of the triangle is 36.  What is the length of the longest side of the triangle?\n",
            "\n",
            "Rubric\n",
            " 7+x+4+2x+1=36 or 3x+12=36 or 3x=24 or x=8 (3)\n",
            "        x+4=12 2x+1=17 (5)\n",
            "Answer\n",
            " 17\n",
            "\n",
            "Problem4\n",
            " Let $f(x)$ be an even function, and let $g(x)$ be an odd function.  Is $f(x) g(x)$ even, odd, or neither? \"odd\\\", \\\"even\\\", or \\\"neither\\\". (total Points 5)\n",
            "\n",
            "Rubric\n",
            " f(-x)g(-x)=-f(x)g(x) (4)\n",
            " odd (1)\n",
            "\n",
            "Answer\n",
            " odd\n",
            "\n",
            "\n",
            "\n",
            "\n"
          ],
          "name": "stdout"
        }
      ]
    },
    {
      "cell_type": "markdown",
      "metadata": {
        "id": "V5ziutz5PqWY"
      },
      "source": [
        ""
      ]
    }
  ]
}
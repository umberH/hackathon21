{
  "nbformat": 4,
  "nbformat_minor": 0,
  "metadata": {
    "colab": {
      "name": "code4Hackathon.ipynb",
      "provenance": [],
      "collapsed_sections": [],
      "include_colab_link": true
    },
    "kernelspec": {
      "name": "python3",
      "display_name": "Python 3"
    },
    "language_info": {
      "name": "python"
    }
  },
  "cells": [
    {
      "cell_type": "markdown",
      "metadata": {
        "id": "view-in-github",
        "colab_type": "text"
      },
      "source": [
        "<a href=\"https://colab.research.google.com/github/umberH/hackathon21/blob/main/code4Hackathon.ipynb\" target=\"_parent\"><img src=\"https://colab.research.google.com/assets/colab-badge.svg\" alt=\"Open In Colab\"/></a>"
      ]
    },
    {
      "cell_type": "markdown",
      "metadata": {
        "id": "8ZRIdIoyRXlL"
      },
      "source": [
        "Mount Google drive"
      ]
    },
    {
      "cell_type": "code",
      "metadata": {
        "colab": {
          "base_uri": "https://localhost:8080/"
        },
        "id": "7YKd2R7eRWq_",
        "outputId": "e5442e51-8d3e-45dc-86a9-3b0fa30e5045"
      },
      "source": [
        "from google.colab import drive\n",
        "drive.mount('/content/drive')\n",
        "\n"
      ],
      "execution_count": 10,
      "outputs": [
        {
          "output_type": "stream",
          "text": [
            "Mounted at /content/drive\n"
          ],
          "name": "stdout"
        }
      ]
    },
    {
      "cell_type": "markdown",
      "metadata": {
        "id": "23pk8y8zPrfN"
      },
      "source": [
        "Read a csv file"
      ]
    },
    {
      "cell_type": "code",
      "metadata": {
        "id": "ME2F6h3URWD-"
      },
      "source": [
        ""
      ],
      "execution_count": null,
      "outputs": []
    },
    {
      "cell_type": "code",
      "metadata": {
        "colab": {
          "base_uri": "https://localhost:8080/"
        },
        "id": "kKhdB4NyN2M0",
        "outputId": "dd023534-db4f-4115-cc74-c9f3a58ad537"
      },
      "source": [
        "import pandas\n",
        "df =pandas.read_csv(\"/content/drive/MyDrive/hackathon/data_math.csv\")\n",
        "print (df)"
      ],
      "execution_count": 12,
      "outputs": [
        {
          "output_type": "stream",
          "text": [
            "          ID  Problem                              Answer  Score\n",
            "0          0        1                                  -1      5\n",
            "1          1        1                                  -4      0\n",
            "2          2        1                                   5      0\n",
            "3          3        1                                   5      0\n",
            "4          4        1                                   4      0\n",
            "...      ...      ...                                 ...    ...\n",
            "19995  19995        4  ['f(-x)g(-x)=-f(x)g(x)', 'either']      4\n",
            "19996  19996        4     ['f(-x)g(-x)=-f(x)g(x)', 'odd']      4\n",
            "19997  19997        4   ['f(-x)g(-x)=f(x)g(x)', 'either']      0\n",
            "19998  19998        4    ['f(-x)g(-x)=-f(x)g(x)', 'even']      4\n",
            "19999  19999        4  ['f(-x)g(-x)=-f(x)g(x)', 'either']      4\n",
            "\n",
            "[20000 rows x 4 columns]\n"
          ],
          "name": "stdout"
        }
      ]
    },
    {
      "cell_type": "markdown",
      "metadata": {
        "id": "_14CaAerPrEZ"
      },
      "source": [
        "Read doc file \n"
      ]
    },
    {
      "cell_type": "code",
      "metadata": {
        "colab": {
          "base_uri": "https://localhost:8080/"
        },
        "id": "g2JfQMZxTtwD",
        "outputId": "8d11f7da-9241-4e1f-eecf-3451a1feed75"
      },
      "source": [
        "!pip install python-docx "
      ],
      "execution_count": 13,
      "outputs": [
        {
          "output_type": "stream",
          "text": [
            "Requirement already satisfied: python-docx in /usr/local/lib/python3.7/dist-packages (0.8.11)\n",
            "Requirement already satisfied: lxml>=2.3.2 in /usr/local/lib/python3.7/dist-packages (from python-docx) (4.2.6)\n"
          ],
          "name": "stdout"
        }
      ]
    },
    {
      "cell_type": "code",
      "metadata": {
        "colab": {
          "base_uri": "https://localhost:8080/"
        },
        "id": "poceeDbHdCEw",
        "outputId": "0880ac66-bab2-43f2-8016-5b085704c7d6"
      },
      "source": [
        "import pandas as pd\n",
        "columns=('ProblemId', 'Rubric','Score')\n",
        "problem_df_ = pd.DataFrame(columns=columns)\n",
        "problem_df_ = problem_df_.fillna(0) # with 0s rather than NaNs\n",
        "print(problem_df_.head())"
      ],
      "execution_count": 79,
      "outputs": [
        {
          "output_type": "stream",
          "text": [
            "Empty DataFrame\n",
            "Columns: [ProblemId, Rubric, Score]\n",
            "Index: []\n"
          ],
          "name": "stdout"
        }
      ]
    },
    {
      "cell_type": "code",
      "metadata": {
        "colab": {
          "base_uri": "https://localhost:8080/",
          "height": 236
        },
        "id": "iA5n3uBVTqi7",
        "outputId": "a1a0f9ce-71ba-45c2-c365-e15806be7768"
      },
      "source": [
        "import docx\n",
        "doc = docx.Document('/content/drive/MyDrive/hackathon/Problem_math_description.docx')\n",
        "\n",
        "\n",
        "#print(doc.paragraphs.text)\n",
        "for x in doc.paragraphs:\n",
        "  line= x.text\n",
        "  if 'Prob' in line:\n",
        "    id=line\n",
        "    #print(id)\n",
        "  if 'Ans' in line:\n",
        "    ans= line\n",
        "    #print(ans)\n",
        "  #print(line)\n",
        "  if 'Rubric:' in line:\n",
        "    # create a df entry until answer is read \n",
        "    #print(line)\n",
        "    rubrics= line.split(':')\n",
        "    #print(rubrics)\n",
        "    for x in rubrics:\n",
        "      if(\";\" in x):\n",
        "        sol=x.split(\";\")\n",
        "        #print(sol)\n",
        "        # create a df entry here \n",
        "        for y in sol:\n",
        "          entry=id+\",\"+y+\",\"+ans\n",
        "          print(entry)\n",
        "          problem_df_.add(pd.Series(entry))\n",
        "\n",
        "\n",
        "      \n",
        "    \n",
        "# for  x in doc.paragraphs:\n",
        "#   #print(x.text)\n",
        "#   part= x.text.split(':')\n",
        "#   #print(len(part))\n",
        "#   for y in part:\n",
        "#     #print(y)\n",
        "#     solutions= y.split(';')\n",
        "#     #print(solutions)\n",
        "#     for z in solutions:\n",
        "#       if(z!=\"\"):\n",
        "#         print(z)\n",
        "#         if(z=='Rubric'):\n",
        "#       #if(z!=\"\"):\n",
        "#       # create a dataframe \n",
        "      \n",
        "#        # problem_df_.append(z)\n",
        "      "
      ],
      "execution_count": 92,
      "outputs": [
        {
          "output_type": "error",
          "ename": "AttributeError",
          "evalue": "ignored",
          "traceback": [
            "\u001b[0;31m---------------------------------------------------------------------------\u001b[0m",
            "\u001b[0;31mAttributeError\u001b[0m                            Traceback (most recent call last)",
            "\u001b[0;32m<ipython-input-92-3e1bce7b5873>\u001b[0m in \u001b[0;36m<module>\u001b[0;34m()\u001b[0m\n\u001b[1;32m      3\u001b[0m \u001b[0;34m\u001b[0m\u001b[0m\n\u001b[1;32m      4\u001b[0m \u001b[0;34m\u001b[0m\u001b[0m\n\u001b[0;32m----> 5\u001b[0;31m \u001b[0mprint\u001b[0m\u001b[0;34m(\u001b[0m\u001b[0mdoc\u001b[0m\u001b[0;34m.\u001b[0m\u001b[0mparagraphs\u001b[0m\u001b[0;34m.\u001b[0m\u001b[0mtext\u001b[0m\u001b[0;34m)\u001b[0m\u001b[0;34m\u001b[0m\u001b[0;34m\u001b[0m\u001b[0m\n\u001b[0m\u001b[1;32m      6\u001b[0m \u001b[0;32mfor\u001b[0m \u001b[0mx\u001b[0m \u001b[0;32min\u001b[0m \u001b[0mdoc\u001b[0m\u001b[0;34m.\u001b[0m\u001b[0mparagraphs\u001b[0m\u001b[0;34m:\u001b[0m\u001b[0;34m\u001b[0m\u001b[0;34m\u001b[0m\u001b[0m\n\u001b[1;32m      7\u001b[0m   \u001b[0mline\u001b[0m\u001b[0;34m=\u001b[0m \u001b[0mx\u001b[0m\u001b[0;34m.\u001b[0m\u001b[0mtext\u001b[0m\u001b[0;34m\u001b[0m\u001b[0;34m\u001b[0m\u001b[0m\n",
            "\u001b[0;31mAttributeError\u001b[0m: 'list' object has no attribute 'text'"
          ]
        }
      ]
    },
    {
      "cell_type": "code",
      "metadata": {
        "colab": {
          "base_uri": "https://localhost:8080/",
          "height": 49
        },
        "id": "CJFx9rd6eYef",
        "outputId": "c76160f4-d827-4445-8c8a-3f26f7e762e0"
      },
      "source": [
        "problem_df_.head()"
      ],
      "execution_count": 89,
      "outputs": [
        {
          "output_type": "execute_result",
          "data": {
            "text/html": [
              "<div>\n",
              "<style scoped>\n",
              "    .dataframe tbody tr th:only-of-type {\n",
              "        vertical-align: middle;\n",
              "    }\n",
              "\n",
              "    .dataframe tbody tr th {\n",
              "        vertical-align: top;\n",
              "    }\n",
              "\n",
              "    .dataframe thead th {\n",
              "        text-align: right;\n",
              "    }\n",
              "</style>\n",
              "<table border=\"1\" class=\"dataframe\">\n",
              "  <thead>\n",
              "    <tr style=\"text-align: right;\">\n",
              "      <th></th>\n",
              "      <th>ProblemId</th>\n",
              "      <th>Rubric</th>\n",
              "      <th>Score</th>\n",
              "    </tr>\n",
              "  </thead>\n",
              "  <tbody>\n",
              "  </tbody>\n",
              "</table>\n",
              "</div>"
            ],
            "text/plain": [
              "Empty DataFrame\n",
              "Columns: [ProblemId, Rubric, Score]\n",
              "Index: []"
            ]
          },
          "metadata": {
            "tags": []
          },
          "execution_count": 89
        }
      ]
    },
    {
      "cell_type": "markdown",
      "metadata": {
        "id": "V5ziutz5PqWY"
      },
      "source": [
        ""
      ]
    }
  ]
}
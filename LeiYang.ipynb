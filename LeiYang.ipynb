{
  "nbformat": 4,
  "nbformat_minor": 0,
  "metadata": {
    "colab": {
      "name": "LeiYang.ipynb",
      "provenance": [],
      "collapsed_sections": [],
      "include_colab_link": true
    },
    "kernelspec": {
      "display_name": "Python 3",
      "language": "python",
      "name": "python3"
    },
    "language_info": {
      "codemirror_mode": {
        "name": "ipython",
        "version": 3
      },
      "file_extension": ".py",
      "mimetype": "text/x-python",
      "name": "python",
      "nbconvert_exporter": "python",
      "pygments_lexer": "ipython3",
      "version": "3.7.3"
    }
  },
  "cells": [
    {
      "cell_type": "markdown",
      "metadata": {
        "id": "view-in-github",
        "colab_type": "text"
      },
      "source": [
        "<a href=\"https://colab.research.google.com/github/umberH/hackathon21/blob/main/LeiYang.ipynb\" target=\"_parent\"><img src=\"https://colab.research.google.com/assets/colab-badge.svg\" alt=\"Open In Colab\"/></a>"
      ]
    },
    {
      "cell_type": "markdown",
      "metadata": {
        "id": "K68ePKZpGTup"
      },
      "source": [
        "### Problem Statment"
      ]
    },
    {
      "cell_type": "markdown",
      "metadata": {
        "id": "OUO5F6YeGYTS"
      },
      "source": [
        "Stem Task: \n",
        "We are proposing a solution to evaluate the stem tasks. \n"
      ]
    },
    {
      "cell_type": "markdown",
      "metadata": {
        "id": "qoM-p0SdOUvm"
      },
      "source": [
        "Our Solution overview"
      ]
    },
    {
      "cell_type": "markdown",
      "metadata": {
        "id": "MN-Iye9YOFJv"
      },
      "source": [
        "![system_overview_stem_task.png](data:image/png;base64,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)"
      ]
    },
    {
      "cell_type": "markdown",
      "metadata": {
        "id": "TDu7CRhQG9Do"
      },
      "source": [
        "## Motivation "
      ]
    },
    {
      "cell_type": "markdown",
      "metadata": {
        "id": "SUn6i5FxGj0X"
      },
      "source": [
        "\n",
        "\n",
        "*   To reduce the load of instructor\n",
        "*   To make the assessment evaluation automated \n",
        "\n",
        "\n",
        "\n"
      ]
    },
    {
      "cell_type": "markdown",
      "metadata": {
        "id": "qi92BJNUHmCe"
      },
      "source": [
        "## Import Library"
      ]
    },
    {
      "cell_type": "code",
      "metadata": {
        "id": "AagcofTaV5HN"
      },
      "source": [
        "import pandas as pd\n",
        "import numpy as np\n",
        "import seaborn as sns\n",
        "from sklearn.model_selection import train_test_split \n",
        "from os.path import join\n",
        "import matplotlib.pyplot as plt\n",
        "import tensorflow as tf\n",
        "from tensorflow.keras import layers, models\n",
        "from google.colab import drive\n",
        "import random\n",
        "from sklearn.model_selection import train_test_split\n",
        "from sklearn.metrics import classification_report\n",
        "from sklearn.model_selection import GridSearchCV"
      ],
      "execution_count": null,
      "outputs": []
    },
    {
      "cell_type": "markdown",
      "metadata": {
        "id": "gFsAoj2BIKRo"
      },
      "source": [
        "## Mount Google for Reading Files"
      ]
    },
    {
      "cell_type": "code",
      "metadata": {
        "colab": {
          "base_uri": "https://localhost:8080/"
        },
        "id": "PJ4Mg2YPV-ND",
        "outputId": "f68894a6-a2f3-4eec-f95b-0f085bcffb7f"
      },
      "source": [
        "drive.mount('/content/drive/')"
      ],
      "execution_count": null,
      "outputs": [
        {
          "output_type": "stream",
          "text": [
            "Mounted at /content/drive/\n"
          ],
          "name": "stdout"
        }
      ]
    },
    {
      "cell_type": "code",
      "metadata": {
        "colab": {
          "base_uri": "https://localhost:8080/"
        },
        "id": "kKhdB4NyN2M0",
        "outputId": "1f019575-d120-4272-b9fc-3fdf040fe46c"
      },
      "source": [
        "df =pd.read_csv(\"/content/drive/MyDrive/hackthon/data_math.csv\")\n",
        "print(df)"
      ],
      "execution_count": null,
      "outputs": [
        {
          "output_type": "stream",
          "text": [
            "          ID  Problem                              Answer  Score\n",
            "0          0        1                                  -1      5\n",
            "1          1        1                                  -4      0\n",
            "2          2        1                                   5      0\n",
            "3          3        1                                   5      0\n",
            "4          4        1                                   4      0\n",
            "...      ...      ...                                 ...    ...\n",
            "19995  19995        4  ['f(-x)g(-x)=-f(x)g(x)', 'either']      4\n",
            "19996  19996        4     ['f(-x)g(-x)=-f(x)g(x)', 'odd']      4\n",
            "19997  19997        4   ['f(-x)g(-x)=f(x)g(x)', 'either']      0\n",
            "19998  19998        4    ['f(-x)g(-x)=-f(x)g(x)', 'even']      4\n",
            "19999  19999        4  ['f(-x)g(-x)=-f(x)g(x)', 'either']      4\n",
            "\n",
            "[20000 rows x 4 columns]\n"
          ],
          "name": "stdout"
        }
      ]
    },
    {
      "cell_type": "code",
      "metadata": {
        "colab": {
          "base_uri": "https://localhost:8080/"
        },
        "id": "ZRD__aEPWjG0",
        "outputId": "facb9f01-d21d-4128-e378-c7610a7960cd"
      },
      "source": [
        "!pip install python-docx \n",
        "import docx"
      ],
      "execution_count": null,
      "outputs": [
        {
          "output_type": "stream",
          "text": [
            "Collecting python-docx\n",
            "\u001b[?25l  Downloading https://files.pythonhosted.org/packages/8b/a0/52729ce4aa026f31b74cc877be1d11e4ddeaa361dc7aebec148171644b33/python-docx-0.8.11.tar.gz (5.6MB)\n",
            "\u001b[K     |████████████████████████████████| 5.6MB 25.0MB/s \n",
            "\u001b[?25hRequirement already satisfied: lxml>=2.3.2 in /usr/local/lib/python3.7/dist-packages (from python-docx) (4.2.6)\n",
            "Building wheels for collected packages: python-docx\n",
            "  Building wheel for python-docx (setup.py) ... \u001b[?25l\u001b[?25hdone\n",
            "  Created wheel for python-docx: filename=python_docx-0.8.11-cp37-none-any.whl size=184508 sha256=5c7f64fd08d2571db0d8aec7e2fbfb1b5b3b68fe65616b9e3e76c76fb3a2cd71\n",
            "  Stored in directory: /root/.cache/pip/wheels/a6/90/f1/a7cb70b38633ae04e7fb963b1c70f63fd6fc01c075b8230adc\n",
            "Successfully built python-docx\n",
            "Installing collected packages: python-docx\n",
            "Successfully installed python-docx-0.8.11\n"
          ],
          "name": "stdout"
        }
      ]
    },
    {
      "cell_type": "code",
      "metadata": {
        "id": "rdjyKMwEg_qb"
      },
      "source": [
        "doc = docx.Document('/content/drive/MyDrive/hackthon/Problem_math_description.docx')"
      ],
      "execution_count": null,
      "outputs": []
    },
    {
      "cell_type": "code",
      "metadata": {
        "colab": {
          "base_uri": "https://localhost:8080/"
        },
        "id": "iA5n3uBVTqi7",
        "outputId": "359ec19f-d8e1-4275-b503-31bfc3f30a9a"
      },
      "source": [
        "#problems = \n",
        "#print(doc.paragraphs[0].text)\n",
        "for  x in doc.paragraphs:\n",
        "  #print(x.text)\n",
        "  part= x.text.split(':')\n",
        "  for y in part:\n",
        "    #print(y)\n",
        "    solutions= y.split(';')\n",
        "    for z in solutions:\n",
        "      print(z)\n",
        "      # create a dataframe "
      ],
      "execution_count": null,
      "outputs": [
        {
          "output_type": "stream",
          "text": [
            "Problem1\n",
            "\n",
            "If $3p+4q=8$ and $4p+3q=13$, what is $q$ equal to? (Total Points 5)\n",
            "\n",
            "Rubric\n",
            " q=-1(5)\n",
            " others(0)\n",
            "\n",
            "Answer\n",
            " q=-1(5)\n",
            "\n",
            "Problem 2\n",
            "Evaluate $i^6+i^{16}+i^{-26}$. (Total Points 5)\n",
            "\n",
            "Rubric\n",
            " i^6=-1(1)\n",
            " i^{16}=1(1)\n",
            " i^{-26}=-1(1)\n",
            "\n",
            "Answer\n",
            " -1(5)\n",
            "\n",
            "Problem3\n",
            " The lengths of the three sides of a triangle are $7$, $x+4$ and $2x+1$.  The perimeter of the triangle is 36.  What is the length of the longest side of the triangle?\n",
            "\n",
            "Rubric\n",
            " 7+x+4+2x+1=36 or 3x+12=36 or 3x=24 or x=8 (3)\n",
            "        x+4=12 2x+1=17 (5)\n",
            "Answer\n",
            " 17\n",
            "\n",
            "Problem4\n",
            " Let $f(x)$ be an even function, and let $g(x)$ be an odd function.  Is $f(x) g(x)$ even, odd, or neither? \"odd\\\", \\\"even\\\", or \\\"neither\\\". (total Points 5)\n",
            "\n",
            "Rubric\n",
            " f(-x)g(-x)=-f(x)g(x) (4)\n",
            " odd (1)\n",
            "\n",
            "Answer\n",
            " odd\n",
            "\n",
            "\n",
            "\n",
            "\n"
          ],
          "name": "stdout"
        }
      ]
    },
    {
      "cell_type": "code",
      "metadata": {
        "id": "wH4vr-txg9n7"
      },
      "source": [
        "#df.Answer"
      ],
      "execution_count": null,
      "outputs": []
    },
    {
      "cell_type": "code",
      "metadata": {
        "id": "O6A7Bz_guD_4"
      },
      "source": [
        "#len(set(df.Answer))\n"
      ],
      "execution_count": null,
      "outputs": []
    },
    {
      "cell_type": "code",
      "metadata": {
        "id": "Bw9OHx-puEDX"
      },
      "source": [
        "#df.loc[df[\"Problem\"]==1]"
      ],
      "execution_count": null,
      "outputs": []
    },
    {
      "cell_type": "code",
      "metadata": {
        "id": "k8-gTTCSCI3a"
      },
      "source": [
        "#df.loc[df['favorite_color'] == 'yellow']\n",
        "#df2=df.loc[df[\"Problem\"]==2]"
      ],
      "execution_count": null,
      "outputs": []
    },
    {
      "cell_type": "code",
      "metadata": {
        "id": "SKU4MxkDuEJZ"
      },
      "source": [
        "#df2.loc[df2['Score']==5]"
      ],
      "execution_count": null,
      "outputs": []
    },
    {
      "cell_type": "markdown",
      "metadata": {
        "id": "9MfTn5ZwjVec"
      },
      "source": [
        "####One Hot Encoding to the Dataset"
      ]
    },
    {
      "cell_type": "code",
      "metadata": {
        "colab": {
          "base_uri": "https://localhost:8080/",
          "height": 490
        },
        "id": "yyb85c04uEMT",
        "outputId": "c5f3c1dc-6352-4109-a431-28eeb7bac069"
      },
      "source": [
        "df_new=pd.get_dummies(df)\n",
        "df_new"
      ],
      "execution_count": null,
      "outputs": [
        {
          "output_type": "execute_result",
          "data": {
            "text/html": [
              "<div>\n",
              "<style scoped>\n",
              "    .dataframe tbody tr th:only-of-type {\n",
              "        vertical-align: middle;\n",
              "    }\n",
              "\n",
              "    .dataframe tbody tr th {\n",
              "        vertical-align: top;\n",
              "    }\n",
              "\n",
              "    .dataframe thead th {\n",
              "        text-align: right;\n",
              "    }\n",
              "</style>\n",
              "<table border=\"1\" class=\"dataframe\">\n",
              "  <thead>\n",
              "    <tr style=\"text-align: right;\">\n",
              "      <th></th>\n",
              "      <th>ID</th>\n",
              "      <th>Problem</th>\n",
              "      <th>Score</th>\n",
              "      <th>Answer_-1</th>\n",
              "      <th>Answer_-2</th>\n",
              "      <th>Answer_-3</th>\n",
              "      <th>Answer_-4</th>\n",
              "      <th>Answer_-5</th>\n",
              "      <th>Answer_0</th>\n",
              "      <th>Answer_1</th>\n",
              "      <th>Answer_2</th>\n",
              "      <th>Answer_3</th>\n",
              "      <th>Answer_4</th>\n",
              "      <th>Answer_5</th>\n",
              "      <th>Answer_['3x+12=36', '']</th>\n",
              "      <th>Answer_['3x+12=36', 'x+4=12, 2x+1=17']</th>\n",
              "      <th>Answer_['3x=24', '']</th>\n",
              "      <th>Answer_['3x=24', 'x+4=12, 2x+1=17']</th>\n",
              "      <th>Answer_['7+x+4+2x+1=36', '']</th>\n",
              "      <th>Answer_['7+x+4+2x+1=36', 'x+4=12, 2x+1=17']</th>\n",
              "      <th>Answer_['f(-x)g(-x)=-f(x)g(x)', 'either']</th>\n",
              "      <th>Answer_['f(-x)g(-x)=-f(x)g(x)', 'even']</th>\n",
              "      <th>Answer_['f(-x)g(-x)=-f(x)g(x)', 'odd']</th>\n",
              "      <th>Answer_['f(-x)g(-x)=f(x)g(x)', 'either']</th>\n",
              "      <th>Answer_['f(-x)g(-x)=f(x)g(x)', 'even']</th>\n",
              "      <th>Answer_['f(-x)g(-x)=f(x)g(x)', 'odd']</th>\n",
              "      <th>Answer_['i^6=-1', '-1']</th>\n",
              "      <th>Answer_['i^6=-1', '-2']</th>\n",
              "      <th>Answer_['i^6=-1', '-3']</th>\n",
              "      <th>Answer_['i^6=-1', '0']</th>\n",
              "      <th>Answer_['i^6=-1', '1']</th>\n",
              "      <th>Answer_['i^6=-1', '2']</th>\n",
              "      <th>Answer_['i^6=-1', '3']</th>\n",
              "      <th>Answer_['i^6=-1', 'i^{16}=1', '-1']</th>\n",
              "      <th>Answer_['i^6=-1', 'i^{16}=1', '-2']</th>\n",
              "      <th>Answer_['i^6=-1', 'i^{16}=1', '-3']</th>\n",
              "      <th>Answer_['i^6=-1', 'i^{16}=1', '0']</th>\n",
              "      <th>Answer_['i^6=-1', 'i^{16}=1', '1']</th>\n",
              "      <th>Answer_['i^6=-1', 'i^{16}=1', '2']</th>\n",
              "      <th>Answer_['i^6=-1', 'i^{16}=1', '3']</th>\n",
              "      <th>...</th>\n",
              "      <th>Answer_['i^{16}=1', 'i^{26}=-1', 'i^6=-1', '1']</th>\n",
              "      <th>Answer_['i^{16}=1', 'i^{26}=-1', 'i^6=-1', '2']</th>\n",
              "      <th>Answer_['i^{16}=1', 'i^{26}=-1', 'i^6=-1', '3']</th>\n",
              "      <th>Answer_['i^{26}=-1', '-1']</th>\n",
              "      <th>Answer_['i^{26}=-1', '-2']</th>\n",
              "      <th>Answer_['i^{26}=-1', '-3']</th>\n",
              "      <th>Answer_['i^{26}=-1', '0']</th>\n",
              "      <th>Answer_['i^{26}=-1', '1']</th>\n",
              "      <th>Answer_['i^{26}=-1', '2']</th>\n",
              "      <th>Answer_['i^{26}=-1', '3']</th>\n",
              "      <th>Answer_['i^{26}=-1', 'i^6=-1', '-1']</th>\n",
              "      <th>Answer_['i^{26}=-1', 'i^6=-1', '-2']</th>\n",
              "      <th>Answer_['i^{26}=-1', 'i^6=-1', '-3']</th>\n",
              "      <th>Answer_['i^{26}=-1', 'i^6=-1', '0']</th>\n",
              "      <th>Answer_['i^{26}=-1', 'i^6=-1', '1']</th>\n",
              "      <th>Answer_['i^{26}=-1', 'i^6=-1', '2']</th>\n",
              "      <th>Answer_['i^{26}=-1', 'i^6=-1', '3']</th>\n",
              "      <th>Answer_['i^{26}=-1', 'i^6=-1', 'i^{16}=1', '-1']</th>\n",
              "      <th>Answer_['i^{26}=-1', 'i^6=-1', 'i^{16}=1', '-2']</th>\n",
              "      <th>Answer_['i^{26}=-1', 'i^6=-1', 'i^{16}=1', '-3']</th>\n",
              "      <th>Answer_['i^{26}=-1', 'i^6=-1', 'i^{16}=1', '0']</th>\n",
              "      <th>Answer_['i^{26}=-1', 'i^6=-1', 'i^{16}=1', '1']</th>\n",
              "      <th>Answer_['i^{26}=-1', 'i^6=-1', 'i^{16}=1', '2']</th>\n",
              "      <th>Answer_['i^{26}=-1', 'i^6=-1', 'i^{16}=1', '3']</th>\n",
              "      <th>Answer_['i^{26}=-1', 'i^{16}=1', '-1']</th>\n",
              "      <th>Answer_['i^{26}=-1', 'i^{16}=1', '-2']</th>\n",
              "      <th>Answer_['i^{26}=-1', 'i^{16}=1', '-3']</th>\n",
              "      <th>Answer_['i^{26}=-1', 'i^{16}=1', '0']</th>\n",
              "      <th>Answer_['i^{26}=-1', 'i^{16}=1', '1']</th>\n",
              "      <th>Answer_['i^{26}=-1', 'i^{16}=1', '2']</th>\n",
              "      <th>Answer_['i^{26}=-1', 'i^{16}=1', '3']</th>\n",
              "      <th>Answer_['i^{26}=-1', 'i^{16}=1', 'i^6=-1', '-1']</th>\n",
              "      <th>Answer_['i^{26}=-1', 'i^{16}=1', 'i^6=-1', '-2']</th>\n",
              "      <th>Answer_['i^{26}=-1', 'i^{16}=1', 'i^6=-1', '-3']</th>\n",
              "      <th>Answer_['i^{26}=-1', 'i^{16}=1', 'i^6=-1', '0']</th>\n",
              "      <th>Answer_['i^{26}=-1', 'i^{16}=1', 'i^6=-1', '1']</th>\n",
              "      <th>Answer_['i^{26}=-1', 'i^{16}=1', 'i^6=-1', '2']</th>\n",
              "      <th>Answer_['i^{26}=-1', 'i^{16}=1', 'i^6=-1', '3']</th>\n",
              "      <th>Answer_['x=8', '']</th>\n",
              "      <th>Answer_['x=8', 'x+4=12, 2x+1=17']</th>\n",
              "    </tr>\n",
              "  </thead>\n",
              "  <tbody>\n",
              "    <tr>\n",
              "      <th>0</th>\n",
              "      <td>0</td>\n",
              "      <td>1</td>\n",
              "      <td>5</td>\n",
              "      <td>1</td>\n",
              "      <td>0</td>\n",
              "      <td>0</td>\n",
              "      <td>0</td>\n",
              "      <td>0</td>\n",
              "      <td>0</td>\n",
              "      <td>0</td>\n",
              "      <td>0</td>\n",
              "      <td>0</td>\n",
              "      <td>0</td>\n",
              "      <td>0</td>\n",
              "      <td>0</td>\n",
              "      <td>0</td>\n",
              "      <td>0</td>\n",
              "      <td>0</td>\n",
              "      <td>0</td>\n",
              "      <td>0</td>\n",
              "      <td>0</td>\n",
              "      <td>0</td>\n",
              "      <td>0</td>\n",
              "      <td>0</td>\n",
              "      <td>0</td>\n",
              "      <td>0</td>\n",
              "      <td>0</td>\n",
              "      <td>0</td>\n",
              "      <td>0</td>\n",
              "      <td>0</td>\n",
              "      <td>0</td>\n",
              "      <td>0</td>\n",
              "      <td>0</td>\n",
              "      <td>0</td>\n",
              "      <td>0</td>\n",
              "      <td>0</td>\n",
              "      <td>0</td>\n",
              "      <td>0</td>\n",
              "      <td>0</td>\n",
              "      <td>0</td>\n",
              "      <td>...</td>\n",
              "      <td>0</td>\n",
              "      <td>0</td>\n",
              "      <td>0</td>\n",
              "      <td>0</td>\n",
              "      <td>0</td>\n",
              "      <td>0</td>\n",
              "      <td>0</td>\n",
              "      <td>0</td>\n",
              "      <td>0</td>\n",
              "      <td>0</td>\n",
              "      <td>0</td>\n",
              "      <td>0</td>\n",
              "      <td>0</td>\n",
              "      <td>0</td>\n",
              "      <td>0</td>\n",
              "      <td>0</td>\n",
              "      <td>0</td>\n",
              "      <td>0</td>\n",
              "      <td>0</td>\n",
              "      <td>0</td>\n",
              "      <td>0</td>\n",
              "      <td>0</td>\n",
              "      <td>0</td>\n",
              "      <td>0</td>\n",
              "      <td>0</td>\n",
              "      <td>0</td>\n",
              "      <td>0</td>\n",
              "      <td>0</td>\n",
              "      <td>0</td>\n",
              "      <td>0</td>\n",
              "      <td>0</td>\n",
              "      <td>0</td>\n",
              "      <td>0</td>\n",
              "      <td>0</td>\n",
              "      <td>0</td>\n",
              "      <td>0</td>\n",
              "      <td>0</td>\n",
              "      <td>0</td>\n",
              "      <td>0</td>\n",
              "      <td>0</td>\n",
              "    </tr>\n",
              "    <tr>\n",
              "      <th>1</th>\n",
              "      <td>1</td>\n",
              "      <td>1</td>\n",
              "      <td>0</td>\n",
              "      <td>0</td>\n",
              "      <td>0</td>\n",
              "      <td>0</td>\n",
              "      <td>1</td>\n",
              "      <td>0</td>\n",
              "      <td>0</td>\n",
              "      <td>0</td>\n",
              "      <td>0</td>\n",
              "      <td>0</td>\n",
              "      <td>0</td>\n",
              "      <td>0</td>\n",
              "      <td>0</td>\n",
              "      <td>0</td>\n",
              "      <td>0</td>\n",
              "      <td>0</td>\n",
              "      <td>0</td>\n",
              "      <td>0</td>\n",
              "      <td>0</td>\n",
              "      <td>0</td>\n",
              "      <td>0</td>\n",
              "      <td>0</td>\n",
              "      <td>0</td>\n",
              "      <td>0</td>\n",
              "      <td>0</td>\n",
              "      <td>0</td>\n",
              "      <td>0</td>\n",
              "      <td>0</td>\n",
              "      <td>0</td>\n",
              "      <td>0</td>\n",
              "      <td>0</td>\n",
              "      <td>0</td>\n",
              "      <td>0</td>\n",
              "      <td>0</td>\n",
              "      <td>0</td>\n",
              "      <td>0</td>\n",
              "      <td>0</td>\n",
              "      <td>0</td>\n",
              "      <td>...</td>\n",
              "      <td>0</td>\n",
              "      <td>0</td>\n",
              "      <td>0</td>\n",
              "      <td>0</td>\n",
              "      <td>0</td>\n",
              "      <td>0</td>\n",
              "      <td>0</td>\n",
              "      <td>0</td>\n",
              "      <td>0</td>\n",
              "      <td>0</td>\n",
              "      <td>0</td>\n",
              "      <td>0</td>\n",
              "      <td>0</td>\n",
              "      <td>0</td>\n",
              "      <td>0</td>\n",
              "      <td>0</td>\n",
              "      <td>0</td>\n",
              "      <td>0</td>\n",
              "      <td>0</td>\n",
              "      <td>0</td>\n",
              "      <td>0</td>\n",
              "      <td>0</td>\n",
              "      <td>0</td>\n",
              "      <td>0</td>\n",
              "      <td>0</td>\n",
              "      <td>0</td>\n",
              "      <td>0</td>\n",
              "      <td>0</td>\n",
              "      <td>0</td>\n",
              "      <td>0</td>\n",
              "      <td>0</td>\n",
              "      <td>0</td>\n",
              "      <td>0</td>\n",
              "      <td>0</td>\n",
              "      <td>0</td>\n",
              "      <td>0</td>\n",
              "      <td>0</td>\n",
              "      <td>0</td>\n",
              "      <td>0</td>\n",
              "      <td>0</td>\n",
              "    </tr>\n",
              "    <tr>\n",
              "      <th>2</th>\n",
              "      <td>2</td>\n",
              "      <td>1</td>\n",
              "      <td>0</td>\n",
              "      <td>0</td>\n",
              "      <td>0</td>\n",
              "      <td>0</td>\n",
              "      <td>0</td>\n",
              "      <td>0</td>\n",
              "      <td>0</td>\n",
              "      <td>0</td>\n",
              "      <td>0</td>\n",
              "      <td>0</td>\n",
              "      <td>0</td>\n",
              "      <td>1</td>\n",
              "      <td>0</td>\n",
              "      <td>0</td>\n",
              "      <td>0</td>\n",
              "      <td>0</td>\n",
              "      <td>0</td>\n",
              "      <td>0</td>\n",
              "      <td>0</td>\n",
              "      <td>0</td>\n",
              "      <td>0</td>\n",
              "      <td>0</td>\n",
              "      <td>0</td>\n",
              "      <td>0</td>\n",
              "      <td>0</td>\n",
              "      <td>0</td>\n",
              "      <td>0</td>\n",
              "      <td>0</td>\n",
              "      <td>0</td>\n",
              "      <td>0</td>\n",
              "      <td>0</td>\n",
              "      <td>0</td>\n",
              "      <td>0</td>\n",
              "      <td>0</td>\n",
              "      <td>0</td>\n",
              "      <td>0</td>\n",
              "      <td>0</td>\n",
              "      <td>0</td>\n",
              "      <td>...</td>\n",
              "      <td>0</td>\n",
              "      <td>0</td>\n",
              "      <td>0</td>\n",
              "      <td>0</td>\n",
              "      <td>0</td>\n",
              "      <td>0</td>\n",
              "      <td>0</td>\n",
              "      <td>0</td>\n",
              "      <td>0</td>\n",
              "      <td>0</td>\n",
              "      <td>0</td>\n",
              "      <td>0</td>\n",
              "      <td>0</td>\n",
              "      <td>0</td>\n",
              "      <td>0</td>\n",
              "      <td>0</td>\n",
              "      <td>0</td>\n",
              "      <td>0</td>\n",
              "      <td>0</td>\n",
              "      <td>0</td>\n",
              "      <td>0</td>\n",
              "      <td>0</td>\n",
              "      <td>0</td>\n",
              "      <td>0</td>\n",
              "      <td>0</td>\n",
              "      <td>0</td>\n",
              "      <td>0</td>\n",
              "      <td>0</td>\n",
              "      <td>0</td>\n",
              "      <td>0</td>\n",
              "      <td>0</td>\n",
              "      <td>0</td>\n",
              "      <td>0</td>\n",
              "      <td>0</td>\n",
              "      <td>0</td>\n",
              "      <td>0</td>\n",
              "      <td>0</td>\n",
              "      <td>0</td>\n",
              "      <td>0</td>\n",
              "      <td>0</td>\n",
              "    </tr>\n",
              "    <tr>\n",
              "      <th>3</th>\n",
              "      <td>3</td>\n",
              "      <td>1</td>\n",
              "      <td>0</td>\n",
              "      <td>0</td>\n",
              "      <td>0</td>\n",
              "      <td>0</td>\n",
              "      <td>0</td>\n",
              "      <td>0</td>\n",
              "      <td>0</td>\n",
              "      <td>0</td>\n",
              "      <td>0</td>\n",
              "      <td>0</td>\n",
              "      <td>0</td>\n",
              "      <td>1</td>\n",
              "      <td>0</td>\n",
              "      <td>0</td>\n",
              "      <td>0</td>\n",
              "      <td>0</td>\n",
              "      <td>0</td>\n",
              "      <td>0</td>\n",
              "      <td>0</td>\n",
              "      <td>0</td>\n",
              "      <td>0</td>\n",
              "      <td>0</td>\n",
              "      <td>0</td>\n",
              "      <td>0</td>\n",
              "      <td>0</td>\n",
              "      <td>0</td>\n",
              "      <td>0</td>\n",
              "      <td>0</td>\n",
              "      <td>0</td>\n",
              "      <td>0</td>\n",
              "      <td>0</td>\n",
              "      <td>0</td>\n",
              "      <td>0</td>\n",
              "      <td>0</td>\n",
              "      <td>0</td>\n",
              "      <td>0</td>\n",
              "      <td>0</td>\n",
              "      <td>0</td>\n",
              "      <td>...</td>\n",
              "      <td>0</td>\n",
              "      <td>0</td>\n",
              "      <td>0</td>\n",
              "      <td>0</td>\n",
              "      <td>0</td>\n",
              "      <td>0</td>\n",
              "      <td>0</td>\n",
              "      <td>0</td>\n",
              "      <td>0</td>\n",
              "      <td>0</td>\n",
              "      <td>0</td>\n",
              "      <td>0</td>\n",
              "      <td>0</td>\n",
              "      <td>0</td>\n",
              "      <td>0</td>\n",
              "      <td>0</td>\n",
              "      <td>0</td>\n",
              "      <td>0</td>\n",
              "      <td>0</td>\n",
              "      <td>0</td>\n",
              "      <td>0</td>\n",
              "      <td>0</td>\n",
              "      <td>0</td>\n",
              "      <td>0</td>\n",
              "      <td>0</td>\n",
              "      <td>0</td>\n",
              "      <td>0</td>\n",
              "      <td>0</td>\n",
              "      <td>0</td>\n",
              "      <td>0</td>\n",
              "      <td>0</td>\n",
              "      <td>0</td>\n",
              "      <td>0</td>\n",
              "      <td>0</td>\n",
              "      <td>0</td>\n",
              "      <td>0</td>\n",
              "      <td>0</td>\n",
              "      <td>0</td>\n",
              "      <td>0</td>\n",
              "      <td>0</td>\n",
              "    </tr>\n",
              "    <tr>\n",
              "      <th>4</th>\n",
              "      <td>4</td>\n",
              "      <td>1</td>\n",
              "      <td>0</td>\n",
              "      <td>0</td>\n",
              "      <td>0</td>\n",
              "      <td>0</td>\n",
              "      <td>0</td>\n",
              "      <td>0</td>\n",
              "      <td>0</td>\n",
              "      <td>0</td>\n",
              "      <td>0</td>\n",
              "      <td>0</td>\n",
              "      <td>1</td>\n",
              "      <td>0</td>\n",
              "      <td>0</td>\n",
              "      <td>0</td>\n",
              "      <td>0</td>\n",
              "      <td>0</td>\n",
              "      <td>0</td>\n",
              "      <td>0</td>\n",
              "      <td>0</td>\n",
              "      <td>0</td>\n",
              "      <td>0</td>\n",
              "      <td>0</td>\n",
              "      <td>0</td>\n",
              "      <td>0</td>\n",
              "      <td>0</td>\n",
              "      <td>0</td>\n",
              "      <td>0</td>\n",
              "      <td>0</td>\n",
              "      <td>0</td>\n",
              "      <td>0</td>\n",
              "      <td>0</td>\n",
              "      <td>0</td>\n",
              "      <td>0</td>\n",
              "      <td>0</td>\n",
              "      <td>0</td>\n",
              "      <td>0</td>\n",
              "      <td>0</td>\n",
              "      <td>0</td>\n",
              "      <td>...</td>\n",
              "      <td>0</td>\n",
              "      <td>0</td>\n",
              "      <td>0</td>\n",
              "      <td>0</td>\n",
              "      <td>0</td>\n",
              "      <td>0</td>\n",
              "      <td>0</td>\n",
              "      <td>0</td>\n",
              "      <td>0</td>\n",
              "      <td>0</td>\n",
              "      <td>0</td>\n",
              "      <td>0</td>\n",
              "      <td>0</td>\n",
              "      <td>0</td>\n",
              "      <td>0</td>\n",
              "      <td>0</td>\n",
              "      <td>0</td>\n",
              "      <td>0</td>\n",
              "      <td>0</td>\n",
              "      <td>0</td>\n",
              "      <td>0</td>\n",
              "      <td>0</td>\n",
              "      <td>0</td>\n",
              "      <td>0</td>\n",
              "      <td>0</td>\n",
              "      <td>0</td>\n",
              "      <td>0</td>\n",
              "      <td>0</td>\n",
              "      <td>0</td>\n",
              "      <td>0</td>\n",
              "      <td>0</td>\n",
              "      <td>0</td>\n",
              "      <td>0</td>\n",
              "      <td>0</td>\n",
              "      <td>0</td>\n",
              "      <td>0</td>\n",
              "      <td>0</td>\n",
              "      <td>0</td>\n",
              "      <td>0</td>\n",
              "      <td>0</td>\n",
              "    </tr>\n",
              "    <tr>\n",
              "      <th>...</th>\n",
              "      <td>...</td>\n",
              "      <td>...</td>\n",
              "      <td>...</td>\n",
              "      <td>...</td>\n",
              "      <td>...</td>\n",
              "      <td>...</td>\n",
              "      <td>...</td>\n",
              "      <td>...</td>\n",
              "      <td>...</td>\n",
              "      <td>...</td>\n",
              "      <td>...</td>\n",
              "      <td>...</td>\n",
              "      <td>...</td>\n",
              "      <td>...</td>\n",
              "      <td>...</td>\n",
              "      <td>...</td>\n",
              "      <td>...</td>\n",
              "      <td>...</td>\n",
              "      <td>...</td>\n",
              "      <td>...</td>\n",
              "      <td>...</td>\n",
              "      <td>...</td>\n",
              "      <td>...</td>\n",
              "      <td>...</td>\n",
              "      <td>...</td>\n",
              "      <td>...</td>\n",
              "      <td>...</td>\n",
              "      <td>...</td>\n",
              "      <td>...</td>\n",
              "      <td>...</td>\n",
              "      <td>...</td>\n",
              "      <td>...</td>\n",
              "      <td>...</td>\n",
              "      <td>...</td>\n",
              "      <td>...</td>\n",
              "      <td>...</td>\n",
              "      <td>...</td>\n",
              "      <td>...</td>\n",
              "      <td>...</td>\n",
              "      <td>...</td>\n",
              "      <td>...</td>\n",
              "      <td>...</td>\n",
              "      <td>...</td>\n",
              "      <td>...</td>\n",
              "      <td>...</td>\n",
              "      <td>...</td>\n",
              "      <td>...</td>\n",
              "      <td>...</td>\n",
              "      <td>...</td>\n",
              "      <td>...</td>\n",
              "      <td>...</td>\n",
              "      <td>...</td>\n",
              "      <td>...</td>\n",
              "      <td>...</td>\n",
              "      <td>...</td>\n",
              "      <td>...</td>\n",
              "      <td>...</td>\n",
              "      <td>...</td>\n",
              "      <td>...</td>\n",
              "      <td>...</td>\n",
              "      <td>...</td>\n",
              "      <td>...</td>\n",
              "      <td>...</td>\n",
              "      <td>...</td>\n",
              "      <td>...</td>\n",
              "      <td>...</td>\n",
              "      <td>...</td>\n",
              "      <td>...</td>\n",
              "      <td>...</td>\n",
              "      <td>...</td>\n",
              "      <td>...</td>\n",
              "      <td>...</td>\n",
              "      <td>...</td>\n",
              "      <td>...</td>\n",
              "      <td>...</td>\n",
              "      <td>...</td>\n",
              "      <td>...</td>\n",
              "      <td>...</td>\n",
              "      <td>...</td>\n",
              "      <td>...</td>\n",
              "      <td>...</td>\n",
              "    </tr>\n",
              "    <tr>\n",
              "      <th>19995</th>\n",
              "      <td>19995</td>\n",
              "      <td>4</td>\n",
              "      <td>4</td>\n",
              "      <td>0</td>\n",
              "      <td>0</td>\n",
              "      <td>0</td>\n",
              "      <td>0</td>\n",
              "      <td>0</td>\n",
              "      <td>0</td>\n",
              "      <td>0</td>\n",
              "      <td>0</td>\n",
              "      <td>0</td>\n",
              "      <td>0</td>\n",
              "      <td>0</td>\n",
              "      <td>0</td>\n",
              "      <td>0</td>\n",
              "      <td>0</td>\n",
              "      <td>0</td>\n",
              "      <td>0</td>\n",
              "      <td>0</td>\n",
              "      <td>1</td>\n",
              "      <td>0</td>\n",
              "      <td>0</td>\n",
              "      <td>0</td>\n",
              "      <td>0</td>\n",
              "      <td>0</td>\n",
              "      <td>0</td>\n",
              "      <td>0</td>\n",
              "      <td>0</td>\n",
              "      <td>0</td>\n",
              "      <td>0</td>\n",
              "      <td>0</td>\n",
              "      <td>0</td>\n",
              "      <td>0</td>\n",
              "      <td>0</td>\n",
              "      <td>0</td>\n",
              "      <td>0</td>\n",
              "      <td>0</td>\n",
              "      <td>0</td>\n",
              "      <td>0</td>\n",
              "      <td>...</td>\n",
              "      <td>0</td>\n",
              "      <td>0</td>\n",
              "      <td>0</td>\n",
              "      <td>0</td>\n",
              "      <td>0</td>\n",
              "      <td>0</td>\n",
              "      <td>0</td>\n",
              "      <td>0</td>\n",
              "      <td>0</td>\n",
              "      <td>0</td>\n",
              "      <td>0</td>\n",
              "      <td>0</td>\n",
              "      <td>0</td>\n",
              "      <td>0</td>\n",
              "      <td>0</td>\n",
              "      <td>0</td>\n",
              "      <td>0</td>\n",
              "      <td>0</td>\n",
              "      <td>0</td>\n",
              "      <td>0</td>\n",
              "      <td>0</td>\n",
              "      <td>0</td>\n",
              "      <td>0</td>\n",
              "      <td>0</td>\n",
              "      <td>0</td>\n",
              "      <td>0</td>\n",
              "      <td>0</td>\n",
              "      <td>0</td>\n",
              "      <td>0</td>\n",
              "      <td>0</td>\n",
              "      <td>0</td>\n",
              "      <td>0</td>\n",
              "      <td>0</td>\n",
              "      <td>0</td>\n",
              "      <td>0</td>\n",
              "      <td>0</td>\n",
              "      <td>0</td>\n",
              "      <td>0</td>\n",
              "      <td>0</td>\n",
              "      <td>0</td>\n",
              "    </tr>\n",
              "    <tr>\n",
              "      <th>19996</th>\n",
              "      <td>19996</td>\n",
              "      <td>4</td>\n",
              "      <td>4</td>\n",
              "      <td>0</td>\n",
              "      <td>0</td>\n",
              "      <td>0</td>\n",
              "      <td>0</td>\n",
              "      <td>0</td>\n",
              "      <td>0</td>\n",
              "      <td>0</td>\n",
              "      <td>0</td>\n",
              "      <td>0</td>\n",
              "      <td>0</td>\n",
              "      <td>0</td>\n",
              "      <td>0</td>\n",
              "      <td>0</td>\n",
              "      <td>0</td>\n",
              "      <td>0</td>\n",
              "      <td>0</td>\n",
              "      <td>0</td>\n",
              "      <td>0</td>\n",
              "      <td>0</td>\n",
              "      <td>1</td>\n",
              "      <td>0</td>\n",
              "      <td>0</td>\n",
              "      <td>0</td>\n",
              "      <td>0</td>\n",
              "      <td>0</td>\n",
              "      <td>0</td>\n",
              "      <td>0</td>\n",
              "      <td>0</td>\n",
              "      <td>0</td>\n",
              "      <td>0</td>\n",
              "      <td>0</td>\n",
              "      <td>0</td>\n",
              "      <td>0</td>\n",
              "      <td>0</td>\n",
              "      <td>0</td>\n",
              "      <td>0</td>\n",
              "      <td>0</td>\n",
              "      <td>...</td>\n",
              "      <td>0</td>\n",
              "      <td>0</td>\n",
              "      <td>0</td>\n",
              "      <td>0</td>\n",
              "      <td>0</td>\n",
              "      <td>0</td>\n",
              "      <td>0</td>\n",
              "      <td>0</td>\n",
              "      <td>0</td>\n",
              "      <td>0</td>\n",
              "      <td>0</td>\n",
              "      <td>0</td>\n",
              "      <td>0</td>\n",
              "      <td>0</td>\n",
              "      <td>0</td>\n",
              "      <td>0</td>\n",
              "      <td>0</td>\n",
              "      <td>0</td>\n",
              "      <td>0</td>\n",
              "      <td>0</td>\n",
              "      <td>0</td>\n",
              "      <td>0</td>\n",
              "      <td>0</td>\n",
              "      <td>0</td>\n",
              "      <td>0</td>\n",
              "      <td>0</td>\n",
              "      <td>0</td>\n",
              "      <td>0</td>\n",
              "      <td>0</td>\n",
              "      <td>0</td>\n",
              "      <td>0</td>\n",
              "      <td>0</td>\n",
              "      <td>0</td>\n",
              "      <td>0</td>\n",
              "      <td>0</td>\n",
              "      <td>0</td>\n",
              "      <td>0</td>\n",
              "      <td>0</td>\n",
              "      <td>0</td>\n",
              "      <td>0</td>\n",
              "    </tr>\n",
              "    <tr>\n",
              "      <th>19997</th>\n",
              "      <td>19997</td>\n",
              "      <td>4</td>\n",
              "      <td>0</td>\n",
              "      <td>0</td>\n",
              "      <td>0</td>\n",
              "      <td>0</td>\n",
              "      <td>0</td>\n",
              "      <td>0</td>\n",
              "      <td>0</td>\n",
              "      <td>0</td>\n",
              "      <td>0</td>\n",
              "      <td>0</td>\n",
              "      <td>0</td>\n",
              "      <td>0</td>\n",
              "      <td>0</td>\n",
              "      <td>0</td>\n",
              "      <td>0</td>\n",
              "      <td>0</td>\n",
              "      <td>0</td>\n",
              "      <td>0</td>\n",
              "      <td>0</td>\n",
              "      <td>0</td>\n",
              "      <td>0</td>\n",
              "      <td>1</td>\n",
              "      <td>0</td>\n",
              "      <td>0</td>\n",
              "      <td>0</td>\n",
              "      <td>0</td>\n",
              "      <td>0</td>\n",
              "      <td>0</td>\n",
              "      <td>0</td>\n",
              "      <td>0</td>\n",
              "      <td>0</td>\n",
              "      <td>0</td>\n",
              "      <td>0</td>\n",
              "      <td>0</td>\n",
              "      <td>0</td>\n",
              "      <td>0</td>\n",
              "      <td>0</td>\n",
              "      <td>0</td>\n",
              "      <td>...</td>\n",
              "      <td>0</td>\n",
              "      <td>0</td>\n",
              "      <td>0</td>\n",
              "      <td>0</td>\n",
              "      <td>0</td>\n",
              "      <td>0</td>\n",
              "      <td>0</td>\n",
              "      <td>0</td>\n",
              "      <td>0</td>\n",
              "      <td>0</td>\n",
              "      <td>0</td>\n",
              "      <td>0</td>\n",
              "      <td>0</td>\n",
              "      <td>0</td>\n",
              "      <td>0</td>\n",
              "      <td>0</td>\n",
              "      <td>0</td>\n",
              "      <td>0</td>\n",
              "      <td>0</td>\n",
              "      <td>0</td>\n",
              "      <td>0</td>\n",
              "      <td>0</td>\n",
              "      <td>0</td>\n",
              "      <td>0</td>\n",
              "      <td>0</td>\n",
              "      <td>0</td>\n",
              "      <td>0</td>\n",
              "      <td>0</td>\n",
              "      <td>0</td>\n",
              "      <td>0</td>\n",
              "      <td>0</td>\n",
              "      <td>0</td>\n",
              "      <td>0</td>\n",
              "      <td>0</td>\n",
              "      <td>0</td>\n",
              "      <td>0</td>\n",
              "      <td>0</td>\n",
              "      <td>0</td>\n",
              "      <td>0</td>\n",
              "      <td>0</td>\n",
              "    </tr>\n",
              "    <tr>\n",
              "      <th>19998</th>\n",
              "      <td>19998</td>\n",
              "      <td>4</td>\n",
              "      <td>4</td>\n",
              "      <td>0</td>\n",
              "      <td>0</td>\n",
              "      <td>0</td>\n",
              "      <td>0</td>\n",
              "      <td>0</td>\n",
              "      <td>0</td>\n",
              "      <td>0</td>\n",
              "      <td>0</td>\n",
              "      <td>0</td>\n",
              "      <td>0</td>\n",
              "      <td>0</td>\n",
              "      <td>0</td>\n",
              "      <td>0</td>\n",
              "      <td>0</td>\n",
              "      <td>0</td>\n",
              "      <td>0</td>\n",
              "      <td>0</td>\n",
              "      <td>0</td>\n",
              "      <td>1</td>\n",
              "      <td>0</td>\n",
              "      <td>0</td>\n",
              "      <td>0</td>\n",
              "      <td>0</td>\n",
              "      <td>0</td>\n",
              "      <td>0</td>\n",
              "      <td>0</td>\n",
              "      <td>0</td>\n",
              "      <td>0</td>\n",
              "      <td>0</td>\n",
              "      <td>0</td>\n",
              "      <td>0</td>\n",
              "      <td>0</td>\n",
              "      <td>0</td>\n",
              "      <td>0</td>\n",
              "      <td>0</td>\n",
              "      <td>0</td>\n",
              "      <td>0</td>\n",
              "      <td>...</td>\n",
              "      <td>0</td>\n",
              "      <td>0</td>\n",
              "      <td>0</td>\n",
              "      <td>0</td>\n",
              "      <td>0</td>\n",
              "      <td>0</td>\n",
              "      <td>0</td>\n",
              "      <td>0</td>\n",
              "      <td>0</td>\n",
              "      <td>0</td>\n",
              "      <td>0</td>\n",
              "      <td>0</td>\n",
              "      <td>0</td>\n",
              "      <td>0</td>\n",
              "      <td>0</td>\n",
              "      <td>0</td>\n",
              "      <td>0</td>\n",
              "      <td>0</td>\n",
              "      <td>0</td>\n",
              "      <td>0</td>\n",
              "      <td>0</td>\n",
              "      <td>0</td>\n",
              "      <td>0</td>\n",
              "      <td>0</td>\n",
              "      <td>0</td>\n",
              "      <td>0</td>\n",
              "      <td>0</td>\n",
              "      <td>0</td>\n",
              "      <td>0</td>\n",
              "      <td>0</td>\n",
              "      <td>0</td>\n",
              "      <td>0</td>\n",
              "      <td>0</td>\n",
              "      <td>0</td>\n",
              "      <td>0</td>\n",
              "      <td>0</td>\n",
              "      <td>0</td>\n",
              "      <td>0</td>\n",
              "      <td>0</td>\n",
              "      <td>0</td>\n",
              "    </tr>\n",
              "    <tr>\n",
              "      <th>19999</th>\n",
              "      <td>19999</td>\n",
              "      <td>4</td>\n",
              "      <td>4</td>\n",
              "      <td>0</td>\n",
              "      <td>0</td>\n",
              "      <td>0</td>\n",
              "      <td>0</td>\n",
              "      <td>0</td>\n",
              "      <td>0</td>\n",
              "      <td>0</td>\n",
              "      <td>0</td>\n",
              "      <td>0</td>\n",
              "      <td>0</td>\n",
              "      <td>0</td>\n",
              "      <td>0</td>\n",
              "      <td>0</td>\n",
              "      <td>0</td>\n",
              "      <td>0</td>\n",
              "      <td>0</td>\n",
              "      <td>0</td>\n",
              "      <td>1</td>\n",
              "      <td>0</td>\n",
              "      <td>0</td>\n",
              "      <td>0</td>\n",
              "      <td>0</td>\n",
              "      <td>0</td>\n",
              "      <td>0</td>\n",
              "      <td>0</td>\n",
              "      <td>0</td>\n",
              "      <td>0</td>\n",
              "      <td>0</td>\n",
              "      <td>0</td>\n",
              "      <td>0</td>\n",
              "      <td>0</td>\n",
              "      <td>0</td>\n",
              "      <td>0</td>\n",
              "      <td>0</td>\n",
              "      <td>0</td>\n",
              "      <td>0</td>\n",
              "      <td>0</td>\n",
              "      <td>...</td>\n",
              "      <td>0</td>\n",
              "      <td>0</td>\n",
              "      <td>0</td>\n",
              "      <td>0</td>\n",
              "      <td>0</td>\n",
              "      <td>0</td>\n",
              "      <td>0</td>\n",
              "      <td>0</td>\n",
              "      <td>0</td>\n",
              "      <td>0</td>\n",
              "      <td>0</td>\n",
              "      <td>0</td>\n",
              "      <td>0</td>\n",
              "      <td>0</td>\n",
              "      <td>0</td>\n",
              "      <td>0</td>\n",
              "      <td>0</td>\n",
              "      <td>0</td>\n",
              "      <td>0</td>\n",
              "      <td>0</td>\n",
              "      <td>0</td>\n",
              "      <td>0</td>\n",
              "      <td>0</td>\n",
              "      <td>0</td>\n",
              "      <td>0</td>\n",
              "      <td>0</td>\n",
              "      <td>0</td>\n",
              "      <td>0</td>\n",
              "      <td>0</td>\n",
              "      <td>0</td>\n",
              "      <td>0</td>\n",
              "      <td>0</td>\n",
              "      <td>0</td>\n",
              "      <td>0</td>\n",
              "      <td>0</td>\n",
              "      <td>0</td>\n",
              "      <td>0</td>\n",
              "      <td>0</td>\n",
              "      <td>0</td>\n",
              "      <td>0</td>\n",
              "    </tr>\n",
              "  </tbody>\n",
              "</table>\n",
              "<p>20000 rows × 133 columns</p>\n",
              "</div>"
            ],
            "text/plain": [
              "          ID  Problem  ...  Answer_['x=8', '']  Answer_['x=8', 'x+4=12, 2x+1=17']\n",
              "0          0        1  ...                   0                                  0\n",
              "1          1        1  ...                   0                                  0\n",
              "2          2        1  ...                   0                                  0\n",
              "3          3        1  ...                   0                                  0\n",
              "4          4        1  ...                   0                                  0\n",
              "...      ...      ...  ...                 ...                                ...\n",
              "19995  19995        4  ...                   0                                  0\n",
              "19996  19996        4  ...                   0                                  0\n",
              "19997  19997        4  ...                   0                                  0\n",
              "19998  19998        4  ...                   0                                  0\n",
              "19999  19999        4  ...                   0                                  0\n",
              "\n",
              "[20000 rows x 133 columns]"
            ]
          },
          "metadata": {
            "tags": []
          },
          "execution_count": 12
        }
      ]
    },
    {
      "cell_type": "markdown",
      "metadata": {
        "id": "KwRGHAgNJHPJ"
      },
      "source": [
        "## Plot"
      ]
    },
    {
      "cell_type": "code",
      "metadata": {
        "colab": {
          "base_uri": "https://localhost:8080/",
          "height": 386
        },
        "id": "_mt4rWuXDmSV",
        "outputId": "f95680e1-9542-4696-e578-658237b702ee"
      },
      "source": [
        "sns.displot(df,x=\"Score\",stat=\"density\")"
      ],
      "execution_count": null,
      "outputs": [
        {
          "output_type": "execute_result",
          "data": {
            "text/plain": [
              "<seaborn.axisgrid.FacetGrid at 0x7fe98345a5d0>"
            ]
          },
          "metadata": {
            "tags": []
          },
          "execution_count": 13
        },
        {
          "output_type": "display_data",
          "data": {
            "image/png": "[encoded data removed]",
            "text/plain": [
              "<Figure size 360x360 with 1 Axes>"
            ]
          },
          "metadata": {
            "tags": [],
            "needs_background": "light"
          }
        }
      ]
    },
    {
      "cell_type": "markdown",
      "metadata": {
        "id": "OZKYgTT9nUrp"
      },
      "source": [
        "##### Do we need to do Data augementation for the minority class(imbalanced dataset)?"
      ]
    },
    {
      "cell_type": "code",
      "metadata": {
        "id": "lsznpE5LDmWI"
      },
      "source": [
        "X=df_new.drop('Score',1)\n",
        "y=df_new['Score']"
      ],
      "execution_count": null,
      "outputs": []
    },
    {
      "cell_type": "markdown",
      "metadata": {
        "id": "qSeerJDqj3YU"
      },
      "source": [
        "###Split dataset to 70% Traning and 30% Test"
      ]
    },
    {
      "cell_type": "code",
      "metadata": {
        "id": "yUaDSBEWDmZe"
      },
      "source": [
        "X_train,X_test,y_train,y_test=train_test_split(X,y,test_size=0.30,random_state=0)"
      ],
      "execution_count": null,
      "outputs": []
    },
    {
      "cell_type": "markdown",
      "metadata": {
        "id": "wASbL3-ukYe3"
      },
      "source": [
        "##Random Forest"
      ]
    },
    {
      "cell_type": "code",
      "metadata": {
        "id": "otFBcCEBHk8l"
      },
      "source": [
        "#len(y_train)"
      ],
      "execution_count": null,
      "outputs": []
    },
    {
      "cell_type": "code",
      "metadata": {
        "id": "IFSdUr2HDmcW"
      },
      "source": [
        " from sklearn.ensemble import RandomForestClassifier\n",
        " rfc=RandomForestClassifier(n_estimators=100).fit(X_train,y_train)"
      ],
      "execution_count": null,
      "outputs": []
    },
    {
      "cell_type": "code",
      "metadata": {
        "colab": {
          "base_uri": "https://localhost:8080/"
        },
        "id": "GCgwNhdJcANT",
        "outputId": "7d2902be-1eab-4734-f787-2fd91f4fa1dc"
      },
      "source": [
        "print(\"\\n Random Forest Classification_report\\n\", classification_report(y_test,rfc.predict(X_test)))"
      ],
      "execution_count": null,
      "outputs": [
        {
          "output_type": "stream",
          "text": [
            "\n",
            " Random Forest Classification_report\n",
            "               precision    recall  f1-score   support\n",
            "\n",
            "           0       1.00      1.00      1.00      1843\n",
            "           1       1.00      1.00      1.00       726\n",
            "           2       1.00      1.00      1.00       417\n",
            "           3       1.00      1.00      1.00      1170\n",
            "           4       1.00      1.00      1.00       744\n",
            "           5       1.00      1.00      1.00      1100\n",
            "\n",
            "    accuracy                           1.00      6000\n",
            "   macro avg       1.00      1.00      1.00      6000\n",
            "weighted avg       1.00      1.00      1.00      6000\n",
            "\n"
          ],
          "name": "stdout"
        }
      ]
    },
    {
      "cell_type": "markdown",
      "metadata": {
        "id": "xO3YvFaOkmBl"
      },
      "source": [
        "100% Accuracy!"
      ]
    },
    {
      "cell_type": "markdown",
      "metadata": {
        "id": "GAwo_1pGkrgX"
      },
      "source": [
        "##SVM"
      ]
    },
    {
      "cell_type": "code",
      "metadata": {
        "id": "GIvybaIGPZpu"
      },
      "source": [
        "from sklearn.svm import SVC\n",
        "model_svc=SVC(class_weight=\"balanced\").fit(X_train,y_train)"
      ],
      "execution_count": null,
      "outputs": []
    },
    {
      "cell_type": "code",
      "metadata": {
        "id": "VqUIYR23ICLz"
      },
      "source": [
        "predicts=model_svc.predict(X_test)"
      ],
      "execution_count": null,
      "outputs": []
    },
    {
      "cell_type": "code",
      "metadata": {
        "colab": {
          "base_uri": "https://localhost:8080/"
        },
        "id": "W_U7cz_L2MZy",
        "outputId": "37b0adff-0f56-4e79-df1b-22ad3fa286b5"
      },
      "source": [
        "from sklearn.metrics import classification_report\n",
        "print(\"\\n SVM Classification Report\\n\",classification_report( y_test,predicts))"
      ],
      "execution_count": null,
      "outputs": [
        {
          "output_type": "stream",
          "text": [
            "\n",
            " SVM Classification Report\n",
            "               precision    recall  f1-score   support\n",
            "\n",
            "           0       0.91      0.71      0.79      1843\n",
            "           1       0.00      0.00      0.00       726\n",
            "           2       0.27      0.99      0.42       417\n",
            "           3       0.51      0.27      0.35      1170\n",
            "           4       0.47      1.00      0.64       744\n",
            "           5       0.51      0.40      0.45      1100\n",
            "\n",
            "    accuracy                           0.53      6000\n",
            "   macro avg       0.45      0.56      0.44      6000\n",
            "weighted avg       0.55      0.53      0.50      6000\n",
            "\n"
          ],
          "name": "stdout"
        },
        {
          "output_type": "stream",
          "text": [
            "/usr/local/lib/python3.7/dist-packages/sklearn/metrics/_classification.py:1272: UndefinedMetricWarning: Precision and F-score are ill-defined and being set to 0.0 in labels with no predicted samples. Use `zero_division` parameter to control this behavior.\n",
            "  _warn_prf(average, modifier, msg_start, len(result))\n"
          ],
          "name": "stderr"
        }
      ]
    },
    {
      "cell_type": "markdown",
      "metadata": {
        "id": "y-bHkffzk2GE"
      },
      "source": [
        "##Perceptron"
      ]
    },
    {
      "cell_type": "code",
      "metadata": {
        "colab": {
          "base_uri": "https://localhost:8080/"
        },
        "id": "mLHcBIryXzr6",
        "outputId": "fa2c08c8-f745-42ec-e25f-13f068d2d890"
      },
      "source": [
        "from sklearn.linear_model import SGDClassifier\n",
        "sgd_percp=SGDClassifier(loss=\"perceptron\", eta0=1, learning_rate=\"constant\", penalty=None).fit(X_train,y_train)\n",
        "sgd=SGDClassifier().fit(X_train,y_train)\n",
        "print(classification_report(y_test,sgd.predict(X_test)))"
      ],
      "execution_count": null,
      "outputs": [
        {
          "output_type": "stream",
          "text": [
            "              precision    recall  f1-score   support\n",
            "\n",
            "           0       0.88      0.01      0.02      1843\n",
            "           1       0.00      0.00      0.00       726\n",
            "           2       0.07      1.00      0.13       417\n",
            "           3       0.00      0.00      0.00      1170\n",
            "           4       0.00      0.00      0.00       744\n",
            "           5       0.00      0.00      0.00      1100\n",
            "\n",
            "    accuracy                           0.07      6000\n",
            "   macro avg       0.16      0.17      0.03      6000\n",
            "weighted avg       0.28      0.07      0.02      6000\n",
            "\n"
          ],
          "name": "stdout"
        },
        {
          "output_type": "stream",
          "text": [
            "/usr/local/lib/python3.7/dist-packages/sklearn/metrics/_classification.py:1272: UndefinedMetricWarning: Precision and F-score are ill-defined and being set to 0.0 in labels with no predicted samples. Use `zero_division` parameter to control this behavior.\n",
            "  _warn_prf(average, modifier, msg_start, len(result))\n"
          ],
          "name": "stderr"
        }
      ]
    },
    {
      "cell_type": "markdown",
      "metadata": {
        "id": "Dr3Y3X3gme_r"
      },
      "source": [
        "### Plotting of conventional models vs accuracy"
      ]
    },
    {
      "cell_type": "code",
      "metadata": {
        "colab": {
          "base_uri": "https://localhost:8080/",
          "height": 347
        },
        "id": "aPXh35VTl8H0",
        "outputId": "2de8a3d5-642d-4ba3-d1d7-c9cab089067b"
      },
      "source": [
        "methods=[\"SVM\",\"RF\",\"Perceptron\"]\n",
        "accuracy=[0.54,1,0.07]\n",
        "y_pos = np.arange(len(methods))\n",
        "\n",
        "MA=pd.DataFrame(list(zip(methods,accuracy)),columns=[\"methods\",\"accuracy\"])\n",
        "MA.plot.barh()\n",
        "plt.xlabel(\"methods\")\n",
        "plt.xlim(0,1)\n",
        "plt.yticks(y_pos, methods)"
      ],
      "execution_count": null,
      "outputs": [
        {
          "output_type": "execute_result",
          "data": {
            "text/plain": [
              "([<matplotlib.axis.YTick at 0x7fe97625ce90>,\n",
              "  <matplotlib.axis.YTick at 0x7fe97625c6d0>,\n",
              "  <matplotlib.axis.YTick at 0x7fe976192f10>],\n",
              " [Text(0, 0, 'SVM'), Text(0, 0, 'RF'), Text(0, 0, 'Perceptron')])"
            ]
          },
          "metadata": {
            "tags": []
          },
          "execution_count": 34
        },
        {
          "output_type": "display_data",
          "data": {
            "image/png": "[encoded data removed]",
            "text/plain": [
              "<Figure size 432x288 with 1 Axes>"
            ]
          },
          "metadata": {
            "tags": [],
            "needs_background": "light"
          }
        }
      ]
    },
    {
      "cell_type": "markdown",
      "metadata": {
        "id": "j97Ca4rEnJlH"
      },
      "source": [
        "####RF has the best accuracy"
      ]
    },
    {
      "cell_type": "code",
      "metadata": {
        "id": "Xun5AjtwgYRN"
      },
      "source": [
        ""
      ],
      "execution_count": null,
      "outputs": []
    },
    {
      "cell_type": "code",
      "metadata": {
        "id": "VNDw-bEhgY8k"
      },
      "source": [
        ""
      ],
      "execution_count": null,
      "outputs": []
    },
    {
      "cell_type": "code",
      "metadata": {
        "id": "MWrcnl6agZB5"
      },
      "source": [
        ""
      ],
      "execution_count": null,
      "outputs": []
    },
    {
      "cell_type": "code",
      "metadata": {
        "id": "a1zxI9HYgZGb"
      },
      "source": [
        ""
      ],
      "execution_count": null,
      "outputs": []
    },
    {
      "cell_type": "code",
      "metadata": {
        "id": "6E3L4OfEgZJ9"
      },
      "source": [
        ""
      ],
      "execution_count": null,
      "outputs": []
    },
    {
      "cell_type": "code",
      "metadata": {
        "id": "iyd_0UZLgZNU"
      },
      "source": [
        ""
      ],
      "execution_count": null,
      "outputs": []
    },
    {
      "cell_type": "code",
      "metadata": {
        "id": "5HoFwozUqqeR"
      },
      "source": [
        ""
      ],
      "execution_count": null,
      "outputs": []
    },
    {
      "cell_type": "code",
      "metadata": {
        "id": "PGX3IKk1qqke"
      },
      "source": [
        ""
      ],
      "execution_count": null,
      "outputs": []
    },
    {
      "cell_type": "code",
      "metadata": {
        "id": "kDCF6xOiqqox"
      },
      "source": [
        ""
      ],
      "execution_count": null,
      "outputs": []
    },
    {
      "cell_type": "markdown",
      "metadata": {
        "id": "96PBdcfiYWat"
      },
      "source": [
        "# New section"
      ]
    },
    {
      "cell_type": "code",
      "metadata": {
        "id": "5mtnN-upXg4T"
      },
      "source": [
        ""
      ],
      "execution_count": null,
      "outputs": []
    }
  ]
}